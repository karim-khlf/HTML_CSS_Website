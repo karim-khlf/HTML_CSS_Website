{
  "nbformat": 4,
  "nbformat_minor": 0,
  "metadata": {
    "colab": {
      "provenance": [],
      "authorship_tag": "ABX9TyMwa3m87UiRwXpk0E8X65c3",
      "include_colab_link": true
    },
    "kernelspec": {
      "name": "python3",
      "display_name": "Python 3"
    },
    "language_info": {
      "name": "python"
    }
  },
  "cells": [
    {
      "cell_type": "markdown",
      "metadata": {
        "id": "view-in-github",
        "colab_type": "text"
      },
      "source": [
        "<a href=\"https://colab.research.google.com/github/karim-khlf/HTML_CSS_Website/blob/main/protein_family_classification.ipynb\" target=\"_parent\"><img src=\"https://colab.research.google.com/assets/colab-badge.svg\" alt=\"Open In Colab\"/></a>"
      ]
    },
    {
      "cell_type": "code",
      "execution_count": 1,
      "metadata": {
        "colab": {
          "base_uri": "https://localhost:8080/",
          "height": 487
        },
        "id": "Vz5kQLcJTZPI",
        "outputId": "0fd2db3e-af2c-47b0-83a2-d39cca11931f"
      },
      "outputs": [
        {
          "output_type": "stream",
          "name": "stderr",
          "text": [
            "/usr/local/lib/python3.12/dist-packages/huggingface_hub/utils/_auth.py:94: UserWarning: \n",
            "The secret `HF_TOKEN` does not exist in your Colab secrets.\n",
            "To authenticate with the Hugging Face Hub, create a token in your settings tab (https://huggingface.co/settings/tokens), set it as secret in your Google Colab and restart your session.\n",
            "You will be able to reuse this secret in all of your notebooks.\n",
            "Please note that authentication is recommended but still optional to access public models or datasets.\n",
            "  warnings.warn(\n"
          ]
        },
        {
          "output_type": "execute_result",
          "data": {
            "text/plain": [
              "                                            sequence family\n",
              "0  MVDISLIMGSESDRAIANRAVSVIEKTKYTYEVMVISAHRNPDELD...   PurE\n",
              "1  MGGKSDLEHLQPAIDILAELRIPHEVRIVSAHRTPDWMMEYASSAE...   PurE\n",
              "2  MSAAPVAVIMGSQSDWTTMRHCADTLEALGIAFETLIVSAHRTPDR...   PurE\n",
              "3  MENPPVGIIMGSQSDWATMREAATLLDELGIAYEAKIVSAHRTPDR...   PurE\n",
              "4  MTKKVGIIMGSDSDLPIVEKAINTLVEYDVPFEVHVFSAHRTPDEA...   PurE\n",
              "5  MGSDSDWTVMIAAAALLREFGVAYEVEVLSAHRTPQKMLAYGMDAR...   PurE\n",
              "6  MTNKYKVAVVMGSDSDFPILKKCIKILKEFSVETEVHVISAHRTPS...   PurE\n",
              "7  MQVAIFFGSKSDTEVMRGAANALKEFGIEYKAFVLSAHRVPEKLEE...   PurE\n",
              "8  MPEVAILMGSKSDTSIAEKTSMALEEAGIAHEMRVISAHRNPDELD...   PurE\n",
              "9  MTSNHSAPLVGIVMGSRSDWETMQHAAQKLDALGVPYEVKVVSAHR...   PurE"
            ],
            "text/html": [
              "\n",
              "  <div id=\"df-1fb48c70-33ac-4a87-8d03-fb2438486d8f\" class=\"colab-df-container\">\n",
              "    <div>\n",
              "<style scoped>\n",
              "    .dataframe tbody tr th:only-of-type {\n",
              "        vertical-align: middle;\n",
              "    }\n",
              "\n",
              "    .dataframe tbody tr th {\n",
              "        vertical-align: top;\n",
              "    }\n",
              "\n",
              "    .dataframe thead th {\n",
              "        text-align: right;\n",
              "    }\n",
              "</style>\n",
              "<table border=\"1\" class=\"dataframe\">\n",
              "  <thead>\n",
              "    <tr style=\"text-align: right;\">\n",
              "      <th></th>\n",
              "      <th>sequence</th>\n",
              "      <th>family</th>\n",
              "    </tr>\n",
              "  </thead>\n",
              "  <tbody>\n",
              "    <tr>\n",
              "      <th>0</th>\n",
              "      <td>MVDISLIMGSESDRAIANRAVSVIEKTKYTYEVMVISAHRNPDELD...</td>\n",
              "      <td>PurE</td>\n",
              "    </tr>\n",
              "    <tr>\n",
              "      <th>1</th>\n",
              "      <td>MGGKSDLEHLQPAIDILAELRIPHEVRIVSAHRTPDWMMEYASSAE...</td>\n",
              "      <td>PurE</td>\n",
              "    </tr>\n",
              "    <tr>\n",
              "      <th>2</th>\n",
              "      <td>MSAAPVAVIMGSQSDWTTMRHCADTLEALGIAFETLIVSAHRTPDR...</td>\n",
              "      <td>PurE</td>\n",
              "    </tr>\n",
              "    <tr>\n",
              "      <th>3</th>\n",
              "      <td>MENPPVGIIMGSQSDWATMREAATLLDELGIAYEAKIVSAHRTPDR...</td>\n",
              "      <td>PurE</td>\n",
              "    </tr>\n",
              "    <tr>\n",
              "      <th>4</th>\n",
              "      <td>MTKKVGIIMGSDSDLPIVEKAINTLVEYDVPFEVHVFSAHRTPDEA...</td>\n",
              "      <td>PurE</td>\n",
              "    </tr>\n",
              "    <tr>\n",
              "      <th>5</th>\n",
              "      <td>MGSDSDWTVMIAAAALLREFGVAYEVEVLSAHRTPQKMLAYGMDAR...</td>\n",
              "      <td>PurE</td>\n",
              "    </tr>\n",
              "    <tr>\n",
              "      <th>6</th>\n",
              "      <td>MTNKYKVAVVMGSDSDFPILKKCIKILKEFSVETEVHVISAHRTPS...</td>\n",
              "      <td>PurE</td>\n",
              "    </tr>\n",
              "    <tr>\n",
              "      <th>7</th>\n",
              "      <td>MQVAIFFGSKSDTEVMRGAANALKEFGIEYKAFVLSAHRVPEKLEE...</td>\n",
              "      <td>PurE</td>\n",
              "    </tr>\n",
              "    <tr>\n",
              "      <th>8</th>\n",
              "      <td>MPEVAILMGSKSDTSIAEKTSMALEEAGIAHEMRVISAHRNPDELD...</td>\n",
              "      <td>PurE</td>\n",
              "    </tr>\n",
              "    <tr>\n",
              "      <th>9</th>\n",
              "      <td>MTSNHSAPLVGIVMGSRSDWETMQHAAQKLDALGVPYEVKVVSAHR...</td>\n",
              "      <td>PurE</td>\n",
              "    </tr>\n",
              "  </tbody>\n",
              "</table>\n",
              "</div>\n",
              "    <div class=\"colab-df-buttons\">\n",
              "\n",
              "  <div class=\"colab-df-container\">\n",
              "    <button class=\"colab-df-convert\" onclick=\"convertToInteractive('df-1fb48c70-33ac-4a87-8d03-fb2438486d8f')\"\n",
              "            title=\"Convert this dataframe to an interactive table.\"\n",
              "            style=\"display:none;\">\n",
              "\n",
              "  <svg xmlns=\"http://www.w3.org/2000/svg\" height=\"24px\" viewBox=\"0 -960 960 960\">\n",
              "    <path d=\"M120-120v-720h720v720H120Zm60-500h600v-160H180v160Zm220 220h160v-160H400v160Zm0 220h160v-160H400v160ZM180-400h160v-160H180v160Zm440 0h160v-160H620v160ZM180-180h160v-160H180v160Zm440 0h160v-160H620v160Z\"/>\n",
              "  </svg>\n",
              "    </button>\n",
              "\n",
              "  <style>\n",
              "    .colab-df-container {\n",
              "      display:flex;\n",
              "      gap: 12px;\n",
              "    }\n",
              "\n",
              "    .colab-df-convert {\n",
              "      background-color: #E8F0FE;\n",
              "      border: none;\n",
              "      border-radius: 50%;\n",
              "      cursor: pointer;\n",
              "      display: none;\n",
              "      fill: #1967D2;\n",
              "      height: 32px;\n",
              "      padding: 0 0 0 0;\n",
              "      width: 32px;\n",
              "    }\n",
              "\n",
              "    .colab-df-convert:hover {\n",
              "      background-color: #E2EBFA;\n",
              "      box-shadow: 0px 1px 2px rgba(60, 64, 67, 0.3), 0px 1px 3px 1px rgba(60, 64, 67, 0.15);\n",
              "      fill: #174EA6;\n",
              "    }\n",
              "\n",
              "    .colab-df-buttons div {\n",
              "      margin-bottom: 4px;\n",
              "    }\n",
              "\n",
              "    [theme=dark] .colab-df-convert {\n",
              "      background-color: #3B4455;\n",
              "      fill: #D2E3FC;\n",
              "    }\n",
              "\n",
              "    [theme=dark] .colab-df-convert:hover {\n",
              "      background-color: #434B5C;\n",
              "      box-shadow: 0px 1px 3px 1px rgba(0, 0, 0, 0.15);\n",
              "      filter: drop-shadow(0px 1px 2px rgba(0, 0, 0, 0.3));\n",
              "      fill: #FFFFFF;\n",
              "    }\n",
              "  </style>\n",
              "\n",
              "    <script>\n",
              "      const buttonEl =\n",
              "        document.querySelector('#df-1fb48c70-33ac-4a87-8d03-fb2438486d8f button.colab-df-convert');\n",
              "      buttonEl.style.display =\n",
              "        google.colab.kernel.accessAllowed ? 'block' : 'none';\n",
              "\n",
              "      async function convertToInteractive(key) {\n",
              "        const element = document.querySelector('#df-1fb48c70-33ac-4a87-8d03-fb2438486d8f');\n",
              "        const dataTable =\n",
              "          await google.colab.kernel.invokeFunction('convertToInteractive',\n",
              "                                                    [key], {});\n",
              "        if (!dataTable) return;\n",
              "\n",
              "        const docLinkHtml = 'Like what you see? Visit the ' +\n",
              "          '<a target=\"_blank\" href=https://colab.research.google.com/notebooks/data_table.ipynb>data table notebook</a>'\n",
              "          + ' to learn more about interactive tables.';\n",
              "        element.innerHTML = '';\n",
              "        dataTable['output_type'] = 'display_data';\n",
              "        await google.colab.output.renderOutput(dataTable, element);\n",
              "        const docLink = document.createElement('div');\n",
              "        docLink.innerHTML = docLinkHtml;\n",
              "        element.appendChild(docLink);\n",
              "      }\n",
              "    </script>\n",
              "  </div>\n",
              "\n",
              "\n",
              "    <div id=\"df-14f6eaf0-dd33-4342-b66e-14b7c082e435\">\n",
              "      <button class=\"colab-df-quickchart\" onclick=\"quickchart('df-14f6eaf0-dd33-4342-b66e-14b7c082e435')\"\n",
              "                title=\"Suggest charts\"\n",
              "                style=\"display:none;\">\n",
              "\n",
              "<svg xmlns=\"http://www.w3.org/2000/svg\" height=\"24px\"viewBox=\"0 0 24 24\"\n",
              "     width=\"24px\">\n",
              "    <g>\n",
              "        <path d=\"M19 3H5c-1.1 0-2 .9-2 2v14c0 1.1.9 2 2 2h14c1.1 0 2-.9 2-2V5c0-1.1-.9-2-2-2zM9 17H7v-7h2v7zm4 0h-2V7h2v10zm4 0h-2v-4h2v4z\"/>\n",
              "    </g>\n",
              "</svg>\n",
              "      </button>\n",
              "\n",
              "<style>\n",
              "  .colab-df-quickchart {\n",
              "      --bg-color: #E8F0FE;\n",
              "      --fill-color: #1967D2;\n",
              "      --hover-bg-color: #E2EBFA;\n",
              "      --hover-fill-color: #174EA6;\n",
              "      --disabled-fill-color: #AAA;\n",
              "      --disabled-bg-color: #DDD;\n",
              "  }\n",
              "\n",
              "  [theme=dark] .colab-df-quickchart {\n",
              "      --bg-color: #3B4455;\n",
              "      --fill-color: #D2E3FC;\n",
              "      --hover-bg-color: #434B5C;\n",
              "      --hover-fill-color: #FFFFFF;\n",
              "      --disabled-bg-color: #3B4455;\n",
              "      --disabled-fill-color: #666;\n",
              "  }\n",
              "\n",
              "  .colab-df-quickchart {\n",
              "    background-color: var(--bg-color);\n",
              "    border: none;\n",
              "    border-radius: 50%;\n",
              "    cursor: pointer;\n",
              "    display: none;\n",
              "    fill: var(--fill-color);\n",
              "    height: 32px;\n",
              "    padding: 0;\n",
              "    width: 32px;\n",
              "  }\n",
              "\n",
              "  .colab-df-quickchart:hover {\n",
              "    background-color: var(--hover-bg-color);\n",
              "    box-shadow: 0 1px 2px rgba(60, 64, 67, 0.3), 0 1px 3px 1px rgba(60, 64, 67, 0.15);\n",
              "    fill: var(--button-hover-fill-color);\n",
              "  }\n",
              "\n",
              "  .colab-df-quickchart-complete:disabled,\n",
              "  .colab-df-quickchart-complete:disabled:hover {\n",
              "    background-color: var(--disabled-bg-color);\n",
              "    fill: var(--disabled-fill-color);\n",
              "    box-shadow: none;\n",
              "  }\n",
              "\n",
              "  .colab-df-spinner {\n",
              "    border: 2px solid var(--fill-color);\n",
              "    border-color: transparent;\n",
              "    border-bottom-color: var(--fill-color);\n",
              "    animation:\n",
              "      spin 1s steps(1) infinite;\n",
              "  }\n",
              "\n",
              "  @keyframes spin {\n",
              "    0% {\n",
              "      border-color: transparent;\n",
              "      border-bottom-color: var(--fill-color);\n",
              "      border-left-color: var(--fill-color);\n",
              "    }\n",
              "    20% {\n",
              "      border-color: transparent;\n",
              "      border-left-color: var(--fill-color);\n",
              "      border-top-color: var(--fill-color);\n",
              "    }\n",
              "    30% {\n",
              "      border-color: transparent;\n",
              "      border-left-color: var(--fill-color);\n",
              "      border-top-color: var(--fill-color);\n",
              "      border-right-color: var(--fill-color);\n",
              "    }\n",
              "    40% {\n",
              "      border-color: transparent;\n",
              "      border-right-color: var(--fill-color);\n",
              "      border-top-color: var(--fill-color);\n",
              "    }\n",
              "    60% {\n",
              "      border-color: transparent;\n",
              "      border-right-color: var(--fill-color);\n",
              "    }\n",
              "    80% {\n",
              "      border-color: transparent;\n",
              "      border-right-color: var(--fill-color);\n",
              "      border-bottom-color: var(--fill-color);\n",
              "    }\n",
              "    90% {\n",
              "      border-color: transparent;\n",
              "      border-bottom-color: var(--fill-color);\n",
              "    }\n",
              "  }\n",
              "</style>\n",
              "\n",
              "      <script>\n",
              "        async function quickchart(key) {\n",
              "          const quickchartButtonEl =\n",
              "            document.querySelector('#' + key + ' button');\n",
              "          quickchartButtonEl.disabled = true;  // To prevent multiple clicks.\n",
              "          quickchartButtonEl.classList.add('colab-df-spinner');\n",
              "          try {\n",
              "            const charts = await google.colab.kernel.invokeFunction(\n",
              "                'suggestCharts', [key], {});\n",
              "          } catch (error) {\n",
              "            console.error('Error during call to suggestCharts:', error);\n",
              "          }\n",
              "          quickchartButtonEl.classList.remove('colab-df-spinner');\n",
              "          quickchartButtonEl.classList.add('colab-df-quickchart-complete');\n",
              "        }\n",
              "        (() => {\n",
              "          let quickchartButtonEl =\n",
              "            document.querySelector('#df-14f6eaf0-dd33-4342-b66e-14b7c082e435 button');\n",
              "          quickchartButtonEl.style.display =\n",
              "            google.colab.kernel.accessAllowed ? 'block' : 'none';\n",
              "        })();\n",
              "      </script>\n",
              "    </div>\n",
              "\n",
              "    </div>\n",
              "  </div>\n"
            ],
            "application/vnd.google.colaboratory.intrinsic+json": {
              "type": "dataframe",
              "variable_name": "df",
              "summary": "{\n  \"name\": \"df\",\n  \"rows\": 80032,\n  \"fields\": [\n    {\n      \"column\": \"sequence\",\n      \"properties\": {\n        \"dtype\": \"string\",\n        \"num_unique_values\": 80032,\n        \"samples\": [\n          \"MTEATPSVAVVVGSANDLPRLDEARAVFGWFGVVYEVHVASAHRAPRRVLELAEGARERGIRVVIAVAGKAAALPGVIAASTTVPVIGVPLSGSDLGGLDALLSVVQMPRGVPVAAVAIDGVANAAILAVQVCALADAKLARRLAEFKERLAAGADVTKLVRGEATEP\",\n          \"MADKLLKKRAEEHIGLANALLADEKLQGLVEDAAQRIIACYRKGGKVILMGNGGSAAEAQHMAAEFLGKFLLERKALPAIALTANSSTMTAIANDSEFAAVFRRQLEAWAAKEDVVIGISTSGNSQNVVEGLKEAKSRGIFTIGLVGEKKCSIDDVCDLCLKIPSSSTPRIQEMHTLIMHTICEEVEAALAKA\",\n          \"MSKVAIIMGSISDMPVMQDAIDILKQFNIEVEVDIVSAHRTPEKLFDFSKNAHERGISVIIAGAGGAAHLPGMVASMSPLPVIGVPVKSSNSIDGWDSVLSILQMPGGVPVATVALNGAKNAGILAAQIIGSHDKKVLDTIISYKEELKAAVNKAAEGLKK\"\n        ],\n        \"semantic_type\": \"\",\n        \"description\": \"\"\n      }\n    },\n    {\n      \"column\": \"family\",\n      \"properties\": {\n        \"dtype\": \"category\",\n        \"num_unique_values\": 8,\n        \"samples\": [\n          \"Lysozyme\",\n          \"NRDR\",\n          \"PurE\"\n        ],\n        \"semantic_type\": \"\",\n        \"description\": \"\"\n      }\n    }\n  ]\n}"
            }
          },
          "metadata": {},
          "execution_count": 1
        }
      ],
      "source": [
        "import pandas as pd\n",
        "\n",
        "splits = {'train': 'data/train-00000-of-00001.parquet', 'test': 'data/test-00000-of-00001.parquet'}\n",
        "df = pd.read_parquet(\"hf://datasets/bayes-group-diffusion/protein_families/\" + splits[\"train\"])\n",
        "df.head(10)"
      ]
    },
    {
      "cell_type": "code",
      "source": [
        "missing_sequences = sum(seq is None or seq == \"\" for seq in df[\"sequence\"])\n",
        "missing_families  = sum(fam is None or fam == \"\" for fam in df[\"family\"])\n",
        "print(missing_sequences, missing_families)\n"
      ],
      "metadata": {
        "colab": {
          "base_uri": "https://localhost:8080/"
        },
        "id": "iDOekI-dTbu3",
        "outputId": "18b65681-c442-4d3e-9f63-2dda1b288179"
      },
      "execution_count": 2,
      "outputs": [
        {
          "output_type": "stream",
          "name": "stdout",
          "text": [
            "0 0\n"
          ]
        }
      ]
    },
    {
      "cell_type": "code",
      "source": [
        "lengths = [len(seq) for seq in df[\"sequence\"]]\n",
        "\n",
        "print(\"Minimum length:\", min(lengths))\n",
        "print(\"Maximum length:\", max(lengths))\n",
        "print(\"Average length:\", sum(lengths)/len(lengths))"
      ],
      "metadata": {
        "colab": {
          "base_uri": "https://localhost:8080/"
        },
        "id": "IuqnM-KpTfWb",
        "outputId": "99959b21-5d60-4ab1-b7c3-6e68b0df7fd0"
      },
      "execution_count": 3,
      "outputs": [
        {
          "output_type": "stream",
          "name": "stdout",
          "text": [
            "Minimum length: 55\n",
            "Maximum length: 1617\n",
            "Average length: 182.85264644142342\n"
          ]
        }
      ]
    },
    {
      "cell_type": "code",
      "source": [
        "# define the amino-acide vocabulary\n",
        "AMINO_ACIDS = \"ACDEFGHIKLMNPQRSTVWYBJZX-\"\n",
        "aa_to_idx = {aa: i+1 for i, aa in enumerate(AMINO_ACIDS)}\n",
        "aa_to_idx[\"X\"] = len(aa_to_idx) + 1 #hdy fi 7alet amino-acids unconnu\n",
        "print(aa_to_idx)"
      ],
      "metadata": {
        "colab": {
          "base_uri": "https://localhost:8080/"
        },
        "id": "asKd76RXTjMd",
        "outputId": "c94abf41-70d5-48cb-ff2c-4739af12d862"
      },
      "execution_count": 4,
      "outputs": [
        {
          "output_type": "stream",
          "name": "stdout",
          "text": [
            "{'A': 1, 'C': 2, 'D': 3, 'E': 4, 'F': 5, 'G': 6, 'H': 7, 'I': 8, 'K': 9, 'L': 10, 'M': 11, 'N': 12, 'P': 13, 'Q': 14, 'R': 15, 'S': 16, 'T': 17, 'V': 18, 'W': 19, 'Y': 20, 'B': 21, 'J': 22, 'Z': 23, 'X': 26, '-': 25}\n"
          ]
        }
      ]
    },
    {
      "cell_type": "code",
      "source": [
        "# padding and truncating\n",
        "import torch\n",
        "\n",
        "MAX_LEN = 200 #since the average is 182\n",
        "\n",
        "def encode_sequence(seq, aa_to_idx, max_len=MAX_LEN):\n",
        "    # Convert amino acids to integers\n",
        "    encoded = [aa_to_idx.get(aa, aa_to_idx[\"X\"]) for aa in seq]\n",
        "\n",
        "    # Truncate if too long\n",
        "    encoded = encoded[:max_len]\n",
        "\n",
        "    # Pad if too short\n",
        "    if len(encoded) < max_len:\n",
        "        encoded += [0] * (max_len - len(encoded))  # 0 = padding\n",
        "\n",
        "    return torch.tensor(encoded, dtype=torch.long)\n",
        "\n",
        "sequences = df[\"sequence\"]\n",
        "labels  =df[\"family\"]\n",
        "encoded_sequences = [encode_sequence(seq, aa_to_idx, max_len=200) for seq in sequences]"
      ],
      "metadata": {
        "id": "bvV2bxspTnVP"
      },
      "execution_count": 10,
      "outputs": []
    },
    {
      "cell_type": "code",
      "source": [
        "from sklearn.preprocessing import LabelEncoder\n",
        "\n",
        "# Create a label encoder\n",
        "label_encoder = LabelEncoder()\n",
        "encoded_labels = label_encoder.fit_transform(labels)\n",
        "\n",
        "print(\"Unique families:\", len(label_encoder.classes_))\n"
      ],
      "metadata": {
        "colab": {
          "base_uri": "https://localhost:8080/"
        },
        "id": "AmWC6yw2Tqde",
        "outputId": "2e063a68-938f-4637-e978-b6dde89a1b15"
      },
      "execution_count": 14,
      "outputs": [
        {
          "output_type": "stream",
          "name": "stdout",
          "text": [
            "Unique families: 8\n"
          ]
        }
      ]
    },
    {
      "cell_type": "code",
      "source": [
        "from torch.utils.data import Dataset,DataLoader\n",
        "from sklearn.model_selection import train_test_split\n",
        "\n",
        "\n",
        "\n",
        "class ProteinDataset(Dataset):\n",
        "    def __init__(self, sequences, labels, aa_to_idx, max_len=200):\n",
        "        self.sequences = sequences\n",
        "        self.labels = labels\n",
        "        self.aa_to_idx = aa_to_idx\n",
        "        self.max_len = max_len\n",
        "\n",
        "    def __len__(self):\n",
        "        return len(self.sequences)\n",
        "\n",
        "    def __getitem__(self, idx):\n",
        "        seq = self.sequences[idx]\n",
        "        label = self.labels[idx]\n",
        "        return encode_sequence(seq, self.aa_to_idx, self.max_len), torch.tensor(label, dtype=torch.long)\n",
        "\n",
        "train_seqs, val_seqs, train_labels, val_labels = train_test_split(\n",
        "    sequences.tolist(),\n",
        "    encoded_labels.tolist(),\n",
        "    test_size=0.2,\n",
        "    random_state=42,\n",
        "    stratify=encoded_labels   # keeps family distribution balanced\n",
        ")\n",
        "\n",
        "train_dataset = ProteinDataset(\n",
        "    sequences=train_seqs,\n",
        "    labels=train_labels,\n",
        "    aa_to_idx=aa_to_idx,\n",
        "    max_len=200\n",
        ")\n",
        "val_dataset = ProteinDataset(\n",
        "    sequences=val_seqs,\n",
        "    labels=val_labels,\n",
        "    aa_to_idx=aa_to_idx,\n",
        "    max_len=200\n",
        ")\n",
        "\n",
        "\n",
        "train_loader = DataLoader(train_dataset, batch_size=32, shuffle=True)\n",
        "val_loader = DataLoader(val_dataset, batch_size=32)\n",
        "\n",
        "\n",
        "for batch_sequences, batch_labels in train_loader:\n",
        "    print(batch_sequences.shape)  # torch.Size([32, 200])\n",
        "    print(batch_labels.shape)     # torch.Size([32])\n",
        "    break\n",
        "\n"
      ],
      "metadata": {
        "colab": {
          "base_uri": "https://localhost:8080/"
        },
        "id": "VdZd8DNSTuc-",
        "outputId": "9efe9471-8360-4fe2-ea0b-727969bbc880"
      },
      "execution_count": 16,
      "outputs": [
        {
          "output_type": "stream",
          "name": "stdout",
          "text": [
            "torch.Size([32, 200])\n",
            "torch.Size([32])\n"
          ]
        }
      ]
    },
    {
      "cell_type": "code",
      "source": [
        "import torch\n",
        "import torch.nn as nn\n",
        "import torch.nn.functional as F\n",
        "\n",
        "class ProteinCNN(nn.Module):\n",
        "    def __init__(self, vocab_size, embed_dim, num_classes):\n",
        "        super(ProteinCNN, self).__init__()\n",
        "\n",
        "        # Embedding for amino acids\n",
        "        self.embedding = nn.Embedding(vocab_size, embed_dim, padding_idx=0)\n",
        "\n",
        "        # Convolutional layers\n",
        "        self.conv1 = nn.Conv1d(in_channels=embed_dim, out_channels=8, kernel_size=5, padding=2)\n",
        "        self.conv2 = nn.Conv1d(in_channels=8, out_channels=16, kernel_size=7, padding=3)\n",
        "\n",
        "        # Fully connected layers\n",
        "        self.fc1 = nn.Linear(16, 8)\n",
        "        self.dropout = nn.Dropout(0.5)\n",
        "        self.fc2 = nn.Linear(8, num_classes)\n",
        "\n",
        "    def forward(self, x):\n",
        "        # x shape: (batch_size, seq_len)\n",
        "        x = self.embedding(x)                 # (batch_size, seq_len, embed_dim)\n",
        "        x = x.permute(0, 2, 1)                # (batch_size, embed_dim, seq_len) for Conv1d\n",
        "\n",
        "        x = F.relu(self.conv1(x))             # (batch_size, 128, seq_len)\n",
        "        x = F.max_pool1d(x, kernel_size=2)    # downsample\n",
        "\n",
        "        x = F.relu(self.conv2(x))             # (batch_size, 256, seq_len/2)\n",
        "        x = F.adaptive_max_pool1d(x, 1)       # global max pooling → (batch_size, 256, 1)\n",
        "\n",
        "        x = x.squeeze(-1)                     # (batch_size, 256)\n",
        "        x = F.relu(self.fc1(x))\n",
        "        x = self.dropout(x)                      # (batch_size, 128)\n",
        "        x = self.fc2(x)                       # (batch_size, num_classes)\n",
        "\n",
        "        return x\n",
        "\n",
        "\n",
        "model = ProteinCNN(vocab_size=25, embed_dim=50, num_classes=len(label_encoder.classes_))\n",
        "\n"
      ],
      "metadata": {
        "id": "bbVz1z8TWQRG"
      },
      "execution_count": 32,
      "outputs": []
    },
    {
      "cell_type": "code",
      "source": [
        "loss_fn = nn.CrossEntropyLoss()\n",
        "optimizer = torch.optim.Adam(model.parameters(), lr=1e-3)"
      ],
      "metadata": {
        "id": "BWClbqQ-XYKW"
      },
      "execution_count": 28,
      "outputs": []
    },
    {
      "cell_type": "code",
      "source": [
        "import torch\n",
        "import torch.nn as nn\n",
        "import torch.optim as optim\n",
        "from tqdm import tqdm\n",
        "\n",
        "# Device\n",
        "device = torch.device(\"cuda\" if torch.cuda.is_available() else \"cpu\")\n",
        "model.to(device)\n",
        "\n",
        "# Loss and optimizer\n",
        "loss_fn = nn.CrossEntropyLoss()\n",
        "optimizer = optim.Adam(model.parameters(), lr=1e-3)\n",
        "\n",
        "num_epochs = 10\n",
        "\n",
        "for epoch in range(num_epochs):\n",
        "    model.train()\n",
        "    total_loss, correct, total = 0, 0, 0\n",
        "\n",
        "    loop = tqdm(train_loader, desc=f\"Epoch {epoch+1}/{num_epochs}\", leave=False)\n",
        "    for sequences, labels in loop:\n",
        "        sequences, labels = sequences.to(device), labels.to(device)\n",
        "\n",
        "        optimizer.zero_grad()\n",
        "        outputs = model(sequences)\n",
        "        loss = loss_fn(outputs, labels)\n",
        "        loss.backward()\n",
        "        optimizer.step()\n",
        "\n",
        "        total_loss += loss.item()\n",
        "        _, predicted = outputs.max(1)\n",
        "        correct += (predicted == labels).sum().item()\n",
        "        total += labels.size(0)\n",
        "\n",
        "        loop.set_postfix(loss=total_loss/len(train_loader), acc=correct/total)\n",
        "\n",
        "    train_acc = correct / total\n",
        "    train_loss = total_loss / len(train_loader)\n",
        "\n",
        "    # Validation\n",
        "    model.eval()\n",
        "    val_correct, val_total, val_loss = 0, 0, 0\n",
        "    with torch.no_grad():\n",
        "        for sequences, labels in val_loader:\n",
        "            sequences, labels = sequences.to(device), labels.to(device)\n",
        "            outputs = model(sequences)\n",
        "            loss = loss_fn(outputs, labels)\n",
        "            val_loss += loss.item()\n",
        "            _, predicted = outputs.max(1)\n",
        "            val_correct += (predicted == labels).sum().item()\n",
        "            val_total += labels.size(0)\n",
        "\n",
        "    val_acc = val_correct / val_total\n",
        "    val_loss = val_loss / len(val_loader)\n",
        "\n",
        "    print(f\"Epoch {epoch+1} | \"\n",
        "          f\"Train Loss: {train_loss:.4f}, Train Acc: {train_acc:.4f} | \"\n",
        "          f\"Val Loss: {val_loss:.4f}, Val Acc: {val_acc:.4f}\")\n"
      ],
      "metadata": {
        "colab": {
          "base_uri": "https://localhost:8080/"
        },
        "id": "XW4PWA_HXZ_1",
        "outputId": "1b351141-db6c-4075-a400-bc5e1f13cf96"
      },
      "execution_count": 33,
      "outputs": [
        {
          "output_type": "stream",
          "name": "stderr",
          "text": []
        },
        {
          "output_type": "stream",
          "name": "stdout",
          "text": [
            "Epoch 1 | Train Loss: 0.9761, Train Acc: 0.6500 | Val Loss: 0.3344, Val Acc: 0.8705\n"
          ]
        },
        {
          "output_type": "stream",
          "name": "stderr",
          "text": []
        },
        {
          "output_type": "stream",
          "name": "stdout",
          "text": [
            "Epoch 2 | Train Loss: 0.7164, Train Acc: 0.7567 | Val Loss: 0.2891, Val Acc: 0.9207\n"
          ]
        },
        {
          "output_type": "stream",
          "name": "stderr",
          "text": []
        },
        {
          "output_type": "stream",
          "name": "stdout",
          "text": [
            "Epoch 3 | Train Loss: 0.6151, Train Acc: 0.7807 | Val Loss: 0.2736, Val Acc: 0.9203\n"
          ]
        },
        {
          "output_type": "stream",
          "name": "stderr",
          "text": []
        },
        {
          "output_type": "stream",
          "name": "stdout",
          "text": [
            "Epoch 4 | Train Loss: 0.5554, Train Acc: 0.7929 | Val Loss: 0.2088, Val Acc: 0.9257\n"
          ]
        },
        {
          "output_type": "stream",
          "name": "stderr",
          "text": []
        },
        {
          "output_type": "stream",
          "name": "stdout",
          "text": [
            "Epoch 5 | Train Loss: 0.5239, Train Acc: 0.7970 | Val Loss: 0.1754, Val Acc: 0.9431\n"
          ]
        },
        {
          "output_type": "stream",
          "name": "stderr",
          "text": []
        },
        {
          "output_type": "stream",
          "name": "stdout",
          "text": [
            "Epoch 6 | Train Loss: 0.5144, Train Acc: 0.7818 | Val Loss: 0.1741, Val Acc: 0.9427\n"
          ]
        },
        {
          "output_type": "stream",
          "name": "stderr",
          "text": []
        },
        {
          "output_type": "stream",
          "name": "stdout",
          "text": [
            "Epoch 7 | Train Loss: 0.4686, Train Acc: 0.8174 | Val Loss: 0.1400, Val Acc: 0.9498\n"
          ]
        },
        {
          "output_type": "stream",
          "name": "stderr",
          "text": []
        },
        {
          "output_type": "stream",
          "name": "stdout",
          "text": [
            "Epoch 8 | Train Loss: 0.4470, Train Acc: 0.8341 | Val Loss: 0.1502, Val Acc: 0.9468\n"
          ]
        },
        {
          "output_type": "stream",
          "name": "stderr",
          "text": []
        },
        {
          "output_type": "stream",
          "name": "stdout",
          "text": [
            "Epoch 9 | Train Loss: 0.4374, Train Acc: 0.8365 | Val Loss: 0.1312, Val Acc: 0.9608\n"
          ]
        },
        {
          "output_type": "stream",
          "name": "stderr",
          "text": []
        },
        {
          "output_type": "stream",
          "name": "stdout",
          "text": [
            "Epoch 10 | Train Loss: 0.4292, Train Acc: 0.8418 | Val Loss: 0.1221, Val Acc: 0.9665\n"
          ]
        }
      ]
    }
  ]
}